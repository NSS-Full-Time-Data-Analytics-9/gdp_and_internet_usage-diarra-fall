{
 "cells": [
  {
   "cell_type": "code",
   "execution_count": null,
   "id": "5d28a296",
   "metadata": {},
   "outputs": [],
   "source": [
    "import pandas as pd  \n",
    "import numpy as np  \n",
    "import matplotlib.pyplot as plt  \n",
    "import seaborn as sns\n",
    "\n",
    "%matplotlib inline"
   ]
  },
  {
   "cell_type": "markdown",
   "id": "dd0bfc71",
   "metadata": {},
   "source": [
    "### 4.\tUsing the pandas `read_csv()` method, read the GDP dataset into your notebook as a DataFrame called `gdp_df`. Take a look at the first few and last few rows to familiarize yourself with what is contained in this dataset."
   ]
  },
  {
   "cell_type": "code",
   "execution_count": null,
   "id": "c5b95bb1",
   "metadata": {
    "scrolled": true
   },
   "outputs": [],
   "source": [
    "gdp_df = pd.read_csv(r\"C:\\Users\\Diarra\\Documents\\Analytics\\DDA9\\Python\\projects\\gdp_and_internet_usage-diarra-fall\\data\\gdp_percapita.csv\") #reads gdp dataset and stores to gdp_df"
   ]
  },
  {
   "cell_type": "code",
   "execution_count": null,
   "id": "4d64de54",
   "metadata": {},
   "outputs": [],
   "source": [
    "gdp_df.head() #displays first 5 rows"
   ]
  },
  {
   "cell_type": "code",
   "execution_count": null,
   "id": "ce22dbca",
   "metadata": {
    "scrolled": true
   },
   "outputs": [],
   "source": [
    "gdp_df.tail() #displays last 5 rows"
   ]
  },
  {
   "cell_type": "markdown",
   "id": "350f329d",
   "metadata": {},
   "source": [
    "### 5. How many rows and columns are in `gdp_df`? What are the data types of each column?"
   ]
  },
  {
   "cell_type": "code",
   "execution_count": null,
   "id": "559182d4",
   "metadata": {},
   "outputs": [],
   "source": [
    "gdp_df.shape #returns the count of columns and rows\n",
    "#there are 7,176 rows and 4 columns in gdp_df"
   ]
  },
  {
   "cell_type": "code",
   "execution_count": null,
   "id": "ca2e2ade",
   "metadata": {
    "scrolled": true
   },
   "outputs": [],
   "source": [
    "gdp_df.info() #returns information about the contents of the dataframe\n",
    "\n",
    "#  #   Column           Non-Null Count  Dtype  \n",
    "# ---  ------           --------------  -----  \n",
    "#  0   Country or Area  7176 non-null   object \n",
    "#  1   Year             7176 non-null   int64  \n",
    "#  2   Value            7176 non-null   float64\n",
    "#  3   Value Footnotes  0 non-null      float64"
   ]
  },
  {
   "cell_type": "markdown",
   "id": "ba2c78d6",
   "metadata": {},
   "source": [
    "### 6. Drop the `Value Footnotes` column and rename the remaining three to 'Country', 'Year', and 'GDP_Per_Capita'."
   ]
  },
  {
   "cell_type": "code",
   "execution_count": null,
   "id": "b41fdfae",
   "metadata": {},
   "outputs": [],
   "source": [
    "gdp_df = gdp_df.drop(columns = 'Value Footnotes').rename(columns = {'Country or Area': 'Country', 'Value': 'GDP_Per_Capita'}) #removes the specified column and renames the remaining ones     "
   ]
  },
  {
   "cell_type": "markdown",
   "id": "5a791a83",
   "metadata": {},
   "source": [
    "### 7. How many countries have data for all years? Which countries are missing many years of data? Look at the number of observations per year. What do you notice? "
   ]
  },
  {
   "cell_type": "code",
   "execution_count": null,
   "id": "00f38452",
   "metadata": {},
   "outputs": [],
   "source": [
    "gdp_df.Year.nunique() #counts how many unique years in dataframe"
   ]
  },
  {
   "cell_type": "code",
   "execution_count": null,
   "id": "1857f212",
   "metadata": {
    "scrolled": true
   },
   "outputs": [],
   "source": [
    "all_years = gdp_df.Country.value_counts() == 31 #counts how many countries in total\n",
    "all_years.value_counts() #displays how many countries have all years and how many are missing years\n",
    "\n",
    "# 205 countries have data for all years"
   ]
  },
  {
   "cell_type": "code",
   "execution_count": null,
   "id": "041eda6f",
   "metadata": {},
   "outputs": [],
   "source": [
    "missing_years = gdp_df.Country.value_counts() <= 26 # sorts countries depending on whether they have 26 years or fewer (missing at least 5 years)\n",
    "missing_years = missing_years.to_frame().reset_index() #converts this to a dataframe and resets the index\n",
    "missing_years = missing_years.loc[missing_years.Country == True] #filters on first condition (to only those missing many)\n",
    "missing_years"
   ]
  },
  {
   "cell_type": "code",
   "execution_count": null,
   "id": "9250e179",
   "metadata": {
    "scrolled": true
   },
   "outputs": [],
   "source": [
    "gdp_df.Year.value_counts() #shows number of observations per year - the number of observations has been increasing with time"
   ]
  },
  {
   "cell_type": "markdown",
   "id": "ef5ebe91",
   "metadata": {},
   "source": [
    "### 8. In this question, you're going to create some plots to show the distribution of GDP per capita for the year 2020. Go to the Python Graph Gallery (https://www.python-graph-gallery.com/) and look at the different types of plots under the Distribution section. Create a histogram, a density plot, a boxplot, and a violin plot. What do you notice when you look at these plots? How do the plots compare and what information can you get out of one type that you can't necessarily get out of the others?"
   ]
  },
  {
   "cell_type": "code",
   "execution_count": null,
   "id": "aeb4efec",
   "metadata": {
    "scrolled": false
   },
   "outputs": [],
   "source": [
    "#histogram\n",
    "sns.set(style=\"darkgrid\")\n",
    "sns.histplot(data=gdp_df.loc[gdp_df.Year == 2020], x=\"GDP_Per_Capita\")\n",
    "#the histogram gives you a clearer idea of the frequency "
   ]
  },
  {
   "cell_type": "code",
   "execution_count": null,
   "id": "48cae5ea",
   "metadata": {},
   "outputs": [],
   "source": [
    "#density\n",
    "sns.set(style=\"darkgrid\")\n",
    "sns.kdeplot(gdp_df.loc[gdp_df.Year == 2020, 'GDP_Per_Capita'], shade=True)"
   ]
  },
  {
   "cell_type": "code",
   "execution_count": null,
   "id": "87ce8e00",
   "metadata": {},
   "outputs": [],
   "source": [
    "#boxplot\n",
    "sns.set(style=\"darkgrid\")\n",
    "sns.boxplot(y=gdp_df.loc[gdp_df.Year == 2020, 'GDP_Per_Capita'])"
   ]
  },
  {
   "cell_type": "code",
   "execution_count": null,
   "id": "43db5045",
   "metadata": {
    "scrolled": true
   },
   "outputs": [],
   "source": [
    "#violin plot\n",
    "sns.set(style=\"darkgrid\")\n",
    "sns.violinplot(y=gdp_df.loc[gdp_df.Year == 2020, 'GDP_Per_Capita'])"
   ]
  },
  {
   "cell_type": "markdown",
   "id": "dfe2d9ef",
   "metadata": {},
   "source": [
    "### 9. What was the median GDP per capita value in 2020?"
   ]
  },
  {
   "cell_type": "code",
   "execution_count": null,
   "id": "8a30a6cb",
   "metadata": {
    "scrolled": true
   },
   "outputs": [],
   "source": [
    "gdp_df.loc[gdp_df.Year == 2020, 'GDP_Per_Capita'].describe() #retrieves various statistics from the masked dataset"
   ]
  },
  {
   "cell_type": "code",
   "execution_count": null,
   "id": "3f6b07ac",
   "metadata": {
    "scrolled": true
   },
   "outputs": [],
   "source": [
    "from statistics import median\n",
    "median(gdp_df.loc[gdp_df.Year == 2020, 'GDP_Per_Capita']) #calculated the median from the masked dataset"
   ]
  },
  {
   "cell_type": "code",
   "execution_count": null,
   "id": "77cb7b91",
   "metadata": {},
   "outputs": [],
   "source": [
    "# median = 12908.94"
   ]
  },
  {
   "cell_type": "markdown",
   "id": "2554a3b0",
   "metadata": {},
   "source": [
    "### 10. For this question, you're going to create some visualizations to compare GDP per capita values for the years 1990, 2000, 2010, and 2020. Start by subsetting your data to just these 4 years into a new DataFrame named gdp_decades. Using this, create the following 4 plots:\n",
    "\t* A boxplot\n",
    "\t* A barplot (check out the Barplot with Seaborn section: https://www.python-graph-gallery.com/barplot/#Seaborn)\n",
    "\t* A scatterplot\n",
    "\t* A scatterplot with a trend line overlaid (see this regplot example: https://www.python-graph-gallery.com/42-custom-linear-regression-fit-seaborn)  \n",
    "### Comment on what you observe has happened to GDP values over time and the relative strengths and weaknesses of each type of plot."
   ]
  },
  {
   "cell_type": "code",
   "execution_count": null,
   "id": "9b8cc6bd",
   "metadata": {},
   "outputs": [],
   "source": [
    "decades = [1990, 2000, 2010, 2020]\n",
    "gdp_decades = gdp_df.loc[gdp_df.Year.isin(decades)]\n",
    "gdp_decades"
   ]
  },
  {
   "cell_type": "code",
   "execution_count": null,
   "id": "7cd64cb1",
   "metadata": {},
   "outputs": [],
   "source": [
    "# A boxplot\n",
    "sns.set(style=\"darkgrid\")\n",
    "sns.boxplot(y=gdp_decades.GDP_Per_Capita, x=gdp_decades.Year)"
   ]
  },
  {
   "cell_type": "code",
   "execution_count": null,
   "id": "34c9f1b5",
   "metadata": {},
   "outputs": [],
   "source": [
    "# A barplot (check out the Barplot with Seaborn section: https://www.python-graph-gallery.com/barplot/#Seaborn)\n",
    "sns.set(style=\"darkgrid\")\n",
    "# Set the figure size\n",
    "plt.figure(figsize=(15, 10))\n",
    "# plot a bar chart\n",
    "sns.barplot(\n",
    "    x=\"Year\", \n",
    "    y=\"GDP_Per_Capita\", \n",
    "    data=gdp_decades, \n",
    "    estimator=sum, \n",
    "    ci=None, \n",
    "    color='#69b3a2');"
   ]
  },
  {
   "cell_type": "code",
   "execution_count": null,
   "id": "42a38aa2",
   "metadata": {},
   "outputs": [],
   "source": [
    "# A scatterplot\n",
    "# Use the 'hue' argument to provide a factor variable\n",
    "sns.lmplot( x=\"Year\", y=\"GDP_Per_Capita\", data=gdp_decades, fit_reg=False, legend=False)"
   ]
  },
  {
   "cell_type": "code",
   "execution_count": null,
   "id": "c7500073",
   "metadata": {},
   "outputs": [],
   "source": [
    "# A scatterplot with a trend line overlaid (see this regplot example: https://www.python-graph-gallery.com/42-custom-linear-regression-fit-seaborn) \n",
    "sns.regplot(x=gdp_decades.Year, y=gdp_decades.GDP_Per_Capita, line_kws={\"color\":\"r\",\"alpha\":0.7,\"lw\":5})"
   ]
  },
  {
   "cell_type": "markdown",
   "id": "db484600",
   "metadata": {},
   "source": [
    "### 11. Which country was the first to have a GDP per capita greater than $100,000?"
   ]
  },
  {
   "cell_type": "code",
   "execution_count": null,
   "id": "0c83c378",
   "metadata": {},
   "outputs": [],
   "source": [
    "high_gdp = gdp_df.loc[gdp_df.GDP_Per_Capita > 100000] #filters for rows with gdp higher than 100000"
   ]
  },
  {
   "cell_type": "code",
   "execution_count": null,
   "id": "97b3fe2c",
   "metadata": {},
   "outputs": [],
   "source": [
    "first_high_gdp = high_gdp[high_gdp.Year == high_gdp.Year.min()] #filters for the country with the earliest year: UAE\n",
    "print(first_high_gdp)"
   ]
  },
  {
   "cell_type": "markdown",
   "id": "0e10648d",
   "metadata": {},
   "source": [
    "### 12. Which country had the highest GDP per capita in 2020? Create a plot showing how this country's GDP per capita has changed over the timespan of the dataset."
   ]
  },
  {
   "cell_type": "code",
   "execution_count": null,
   "id": "95b3579b",
   "metadata": {},
   "outputs": [],
   "source": [
    "gdp_2020 = gdp_df.loc[gdp_df.Year == 2020] #filters for rows the year 2020"
   ]
  },
  {
   "cell_type": "code",
   "execution_count": null,
   "id": "27e1d140",
   "metadata": {},
   "outputs": [],
   "source": [
    "high_gdp_2020 = gdp_2020[gdp_2020.GDP_Per_Capita == gdp_2020.GDP_Per_Capita.max()] #filters for the country with the highest gdp/capita: Luxembourg\n",
    "print(high_gdp_2020)"
   ]
  },
  {
   "cell_type": "code",
   "execution_count": null,
   "id": "0bd9cf3d",
   "metadata": {},
   "outputs": [],
   "source": [
    "sns.set(style=\"darkgrid\")\n",
    "plt.figure(figsize=(15, 10))\n",
    "sns.barplot(\n",
    "    x=\"Year\", \n",
    "    y=\"GDP_Per_Capita\", \n",
    "    data=gdp_df.loc[gdp_df.Country == 'Luxembourg'], \n",
    "    estimator=sum, \n",
    "    ci=None, \n",
    "    color='#69b3a2').set_title(\"Luxembourg GDP over time\");"
   ]
  },
  {
   "cell_type": "markdown",
   "id": "30569be8",
   "metadata": {},
   "source": [
    "### 13. Which country had the lowest GDP per capita in 2020? Create a plot showing how this country's GDP per capita has changed over the timespan of the dataset. \n",
    "### ***Bonus question:** Is it true in general that coutries had a higher GDP per capita in 2020 than in 1990? Which countries had lower GDP per capita in 2020 than in 1990?*"
   ]
  },
  {
   "cell_type": "code",
   "execution_count": null,
   "id": "2608c6e2",
   "metadata": {},
   "outputs": [],
   "source": [
    "low_gdp_2020 = gdp_2020[gdp_2020.GDP_Per_Capita == gdp_2020.GDP_Per_Capita.min()] #filters for the country with the lowest gdp/capita: Burundi\n",
    "print(low_gdp_2020)"
   ]
  },
  {
   "cell_type": "code",
   "execution_count": null,
   "id": "c9b9a945",
   "metadata": {},
   "outputs": [],
   "source": [
    "sns.set(style=\"darkgrid\")\n",
    "plt.figure(figsize=(15, 10))\n",
    "sns.barplot(\n",
    "    x=\"Year\", \n",
    "    y=\"GDP_Per_Capita\", \n",
    "    data=gdp_df.loc[gdp_df.Country == 'Burundi'], \n",
    "    estimator=sum, \n",
    "    ci=None, \n",
    "    color='#69b3a2').set_title(\"Burundi GDP over time\");"
   ]
  },
  {
   "cell_type": "code",
   "execution_count": null,
   "id": "f1b54d7e",
   "metadata": {},
   "outputs": [],
   "source": [
    "short_decades = [1990, 2020]\n",
    "gdp_short_decades = gdp_df.loc[gdp_df.Year.isin(short_decades)] #filter to only return values from 1990 and 2020"
   ]
  },
  {
   "cell_type": "code",
   "execution_count": null,
   "id": "e3b4f652",
   "metadata": {
    "scrolled": false
   },
   "outputs": [],
   "source": [
    "sns.set(style=\"darkgrid\")\n",
    "plt.figure(figsize=(15, 10))\n",
    "sns.barplot(\n",
    "    x=\"Year\", \n",
    "    y=\"GDP_Per_Capita\", \n",
    "    data=gdp_short_decades, \n",
    "    estimator=np.mean, #shows the average gdp value rather than sum\n",
    "    ci=None, \n",
    "    color='#69b3a2').set_title(\"Average GDP in 1990 vs 2020\");\n",
    "#On average, gdp has risen between 1990 and 2020"
   ]
  },
  {
   "cell_type": "code",
   "execution_count": null,
   "id": "cc625fa1",
   "metadata": {},
   "outputs": [],
   "source": [
    "gdp_1990 = gdp_df.loc[gdp_df.Year == 1990] #filter to only return values from 1990 and 2020"
   ]
  },
  {
   "cell_type": "code",
   "execution_count": null,
   "id": "2bc53567",
   "metadata": {},
   "outputs": [],
   "source": [
    "gdp_2020 = gdp_df.loc[gdp_df.Year == 2020] #filter to only return values from 1990 and 2020"
   ]
  },
  {
   "cell_type": "code",
   "execution_count": null,
   "id": "375dbb58",
   "metadata": {
    "scrolled": true
   },
   "outputs": [],
   "source": [
    "gdp_comp = pd.merge(gdp_1990, gdp_2020, \n",
    "                               left_on = ['Country'], right_on = ['Country'], \n",
    "                               how = 'outer')\n",
    "gdp_comp"
   ]
  },
  {
   "cell_type": "code",
   "execution_count": null,
   "id": "8610f409",
   "metadata": {},
   "outputs": [],
   "source": [
    "gdp_comp.loc[gdp_comp.GDP_Per_Capita_y < gdp_comp.GDP_Per_Capita_x].Country\n",
    "#9                                         Aruba\n",
    "#15                                     Barbados\n",
    "#25                                       Brunei\n",
    "#28                                      Burundi\n",
    "#33                     Central African Republic\n",
    "#39                                      Comoros\n",
    "#40                                        Congo\n",
    "#44                              Dem. Rep. Congo\n",
    "#65     Fragile and conflict affected situations\n",
    "#67                                        Gabon\n",
    "#75                                Guinea-Bissau\n",
    "#77                                        Haiti\n",
    "#98                                     Kiribati\n",
    "#100                             Kyrgyz Republic\n",
    "#114                                  Madagascar\n",
    "#143                                        Oman\n",
    "#182                                  Tajikistan\n",
    "#185                                 The Bahamas\n",
    "#186                                  The Gambia\n",
    "#194                                     Ukraine\n",
    "#195                        United Arab Emirates\n",
    "#205                                    Zimbabwe"
   ]
  },
  {
   "cell_type": "markdown",
   "id": "d5ed2ad7",
   "metadata": {},
   "source": [
    "### 14. Read in the internet use dataset into a DataFrame named `internet_df`. You will likely get errors when doing this. Check the arguments for the read_csv function to find ones that can help correct the errors (https://pandas.pydata.org/docs/reference/api/pandas.read_csv.html) Once you are able to read it in, take per a look at the top and bottom few rows to make sure that it has been read in correctly. Also, check the datatypes of the columns."
   ]
  },
  {
   "cell_type": "code",
   "execution_count": null,
   "id": "53c255d0",
   "metadata": {},
   "outputs": [],
   "source": [
    "internet_df = pd.read_csv(r\"C:\\Users\\Diarra\\Documents\\Analytics\\DDA9\\Python\\projects\\gdp_and_internet_usage-diarra-fall\\data\\internet_use.csv\", nrows = 4495) #reads 4495 rows of internet_use dataset dataset and stores to internet_df"
   ]
  },
  {
   "cell_type": "code",
   "execution_count": null,
   "id": "3cd35dcc",
   "metadata": {
    "scrolled": false
   },
   "outputs": [],
   "source": [
    "internet_df"
   ]
  },
  {
   "cell_type": "code",
   "execution_count": null,
   "id": "2c07d6b4",
   "metadata": {},
   "outputs": [],
   "source": [
    "internet_df.info()"
   ]
  },
  {
   "cell_type": "markdown",
   "id": "3ed75022",
   "metadata": {},
   "source": [
    "### 15. Drop the `Value Footnotes` column and rename the remaining three to 'Country', 'Year', and 'Internet_Users_Pct'."
   ]
  },
  {
   "cell_type": "code",
   "execution_count": null,
   "id": "056669dd",
   "metadata": {},
   "outputs": [],
   "source": [
    "internet_df = internet_df.drop(columns = 'Value Footnotes').rename(columns = {'Country or Area': 'Country', 'Value': 'Internet_Users_Pct'}) #removes the specified column and renames the remaining ones     "
   ]
  },
  {
   "cell_type": "markdown",
   "id": "ef033d48",
   "metadata": {},
   "source": [
    "### 16. Look at the number of observations in this dataset per year. What do you notice?"
   ]
  },
  {
   "cell_type": "code",
   "execution_count": null,
   "id": "ad1a0872",
   "metadata": {},
   "outputs": [],
   "source": [
    "internet_df.Year.value_counts() #shows observations/year\n",
    "#There are fewer countries in this dataset and there are different years"
   ]
  },
  {
   "cell_type": "markdown",
   "id": "9bb36691",
   "metadata": {},
   "source": [
    "### 17. What is the first year to have a non-zero internet users percentage value?"
   ]
  },
  {
   "cell_type": "code",
   "execution_count": null,
   "id": "b59d631e",
   "metadata": {},
   "outputs": [],
   "source": [
    "non_zero = internet_df.loc[internet_df.Internet_Users_Pct > 0 ] #filters for non-zero percentages"
   ]
  },
  {
   "cell_type": "code",
   "execution_count": null,
   "id": "9c587e7a",
   "metadata": {},
   "outputs": [],
   "source": [
    "non_zero_first = non_zero[non_zero.Year == non_zero.Year.min()] #filters for the earliest year with non-zero perc: 1990\n",
    "print(non_zero_first)"
   ]
  },
  {
   "cell_type": "markdown",
   "id": "afe22f43",
   "metadata": {},
   "source": [
    "### 18. How does the distribution of internet users percent differ for 2000 and 2014?"
   ]
  },
  {
   "cell_type": "code",
   "execution_count": null,
   "id": "fbdee757",
   "metadata": {},
   "outputs": [],
   "source": [
    "perc_2000 = internet_df.loc[internet_df.Year == 2000 ] #filter rows for year 2000"
   ]
  },
  {
   "cell_type": "code",
   "execution_count": null,
   "id": "a0c64934",
   "metadata": {},
   "outputs": [],
   "source": [
    "perc_2014 = internet_df.loc[internet_df.Year == 2014 ] #filter rows for year 2014"
   ]
  },
  {
   "cell_type": "code",
   "execution_count": null,
   "id": "dc7fca48",
   "metadata": {},
   "outputs": [],
   "source": [
    "sns.set(style=\"darkgrid\") \n",
    "# plotting both distibutions on the same figure\n",
    "fig = sns.kdeplot(perc_2000['Internet_Users_Pct'], shade=True, color=\"r\")\n",
    "fig = sns.kdeplot(perc_2014['Internet_Users_Pct'], shade=True, color=\"b\")\n",
    "fig.legend(labels=['2000','2014'])\n",
    "fig.set_title(\"Distribution of Internet Usage Percentage\")"
   ]
  },
  {
   "cell_type": "code",
   "execution_count": null,
   "id": "2c8401a1",
   "metadata": {},
   "outputs": [],
   "source": [
    "#There are far more countries with higher usage rates in 2014"
   ]
  },
  {
   "cell_type": "markdown",
   "id": "144c994a",
   "metadata": {},
   "source": [
    "### 19. For how many countries was the percentage of internet users below 5% in 2014?"
   ]
  },
  {
   "cell_type": "code",
   "execution_count": null,
   "id": "e590eaf8",
   "metadata": {},
   "outputs": [],
   "source": [
    "under5_2014 = perc_2014.loc[perc_2014.Internet_Users_Pct < 5] #filters the 2014 data for countries with usage under 5%\n",
    "under5_2014.shape\n",
    "# 16 countries"
   ]
  },
  {
   "cell_type": "markdown",
   "id": "286570a3",
   "metadata": {},
   "source": [
    "### 20. Merge the two DataFrames to one. Do this in a way that keeps **all rows** from each of the two DataFrames. Call the new DataFrame `gdp_and_internet_use`. Look at the first and last few rows to confirm that it merged correctly."
   ]
  },
  {
   "cell_type": "code",
   "execution_count": null,
   "id": "5480fe3d",
   "metadata": {},
   "outputs": [],
   "source": [
    "gdp_and_internet_use = pd.merge(gdp_df, internet_df, \n",
    "                               left_on = ['Country', 'Year'], right_on = ['Country', 'Year'], \n",
    "                               how = 'outer') # merge the two datasets on country and year - outer join to keep all entries\n",
    "gdp_and_internet_use"
   ]
  },
  {
   "cell_type": "markdown",
   "id": "08ef0dfd",
   "metadata": {},
   "source": [
    "### 21. Find the three countries with the highest internet users percentage in 2014. Use a seaborn FacetGrid (https://seaborn.pydata.org/generated/seaborn.FacetGrid.html) to compare how the GDP per capita has changed over time for these three countries. What do you notice?"
   ]
  },
  {
   "cell_type": "code",
   "execution_count": null,
   "id": "555fbde1",
   "metadata": {},
   "outputs": [],
   "source": [
    "top3_perc_2014 = gdp_and_internet_use.loc[gdp_and_internet_use.Year == 2014].sort_values(by = 'Internet_Users_Pct', ascending = False).head(3) #displays the 3 entries with the highest internet usage in 2014\n",
    "print(top3_perc_2014)\n",
    "# Iceland, Bermuda, Norway"
   ]
  },
  {
   "cell_type": "code",
   "execution_count": null,
   "id": "ef86d205",
   "metadata": {},
   "outputs": [],
   "source": [
    "top3_gdp = gdp_and_internet_use.loc[gdp_and_internet_use.Country.isin(top3_perc_2014.Country)] #pulls all data about top 3 countries"
   ]
  },
  {
   "cell_type": "code",
   "execution_count": null,
   "id": "7e7c2d5a",
   "metadata": {},
   "outputs": [],
   "source": [
    "plt.figure(figsize=(16,4))\n",
    "sns.barplot(data=top3_gdp, x=\"Year\", y=\"GDP_Per_Capita\", hue = \"Country\") #alternate barplot\n",
    "\n"
   ]
  },
  {
   "cell_type": "code",
   "execution_count": null,
   "id": "ac9ab267",
   "metadata": {
    "scrolled": true
   },
   "outputs": [],
   "source": [
    "g = sns.FacetGrid(top3_gdp, row=\"Country\", height=2, aspect=2)\n",
    "g.map(sns.lineplot, \"Year\", \"GDP_Per_Capita\") #produces 3 lineplots showing gpd/capita over time for each of the top 3 countries"
   ]
  },
  {
   "cell_type": "code",
   "execution_count": null,
   "id": "1fcc9a28",
   "metadata": {},
   "outputs": [],
   "source": [
    "srt = top3_gdp.sort_values('Year').Year.unique() #saves each year listed in ascending order\n",
    "g = sns.FacetGrid(top3_gdp, row=\"Country\", height=2, aspect=8)\n",
    "g.map(sns.barplot, \"Year\", \"GDP_Per_Capita\", order = srt) #produces 3 barplots showing gpd/capita over time for each of the top 3 countries"
   ]
  },
  {
   "cell_type": "markdown",
   "id": "4e0986ec",
   "metadata": {},
   "source": [
    "### 22. Subset `gdp_and_internet_use` to just the year 2014. Save this as a new dataframe named `gdp_and_internet_use_2014`."
   ]
  },
  {
   "cell_type": "code",
   "execution_count": null,
   "id": "e08adf63",
   "metadata": {},
   "outputs": [],
   "source": [
    "gdp_and_internet_use_2014 = gdp_and_internet_use.loc[gdp_and_internet_use.Year == 2014] #filters to only show 2014 data\n",
    "gdp_and_internet_use_2014"
   ]
  },
  {
   "cell_type": "markdown",
   "id": "47688b95",
   "metadata": {},
   "source": [
    "### 23. Create a plot which compares Internet Users Percentage and GDP per Capita for the year 2014. What do you notice from this plot? If you see any unusual points, investigate them."
   ]
  },
  {
   "cell_type": "code",
   "execution_count": null,
   "id": "401d26d8",
   "metadata": {
    "scrolled": true
   },
   "outputs": [],
   "source": [
    "sns.scatterplot(data=gdp_and_internet_use_2014, x=\"Internet_Users_Pct\", y=\"GDP_Per_Capita\")"
   ]
  },
  {
   "cell_type": "markdown",
   "id": "25bf4519",
   "metadata": {},
   "source": [
    "### 24. **Stretch Question:** Use the `qcut` function from pandas (https://pandas.pydata.org/docs/reference/api/pandas.qcut.html) to divide countries in `gdp_per_capita_2014` into three groups based on their GDP per capita values. Label these groups as \"Low\", \"Medium\", and \"High\". Put these labels in a new column, named \"GDP_group\"."
   ]
  },
  {
   "cell_type": "code",
   "execution_count": null,
   "id": "e7abb8ac",
   "metadata": {},
   "outputs": [],
   "source": [
    "gdp_and_internet_use_2014['GDP_group'] = pd.qcut(gdp_and_internet_use_2014.GDP_Per_Capita, 3, labels=[\"Low\", \"Medium\", \"High\"])\n",
    "gdp_and_internet_use_2014"
   ]
  },
  {
   "cell_type": "markdown",
   "id": "ba4be783",
   "metadata": {},
   "source": [
    "### 25. **Stretch Question:** How does the median internet users percentage compare for the three gdp groups?"
   ]
  },
  {
   "cell_type": "code",
   "execution_count": null,
   "id": "351857df",
   "metadata": {},
   "outputs": [],
   "source": [
    "med_low = gdp_and_internet_use_2014.loc[gdp_and_internet_use_2014.GDP_group == \"Low\"].Internet_Users_Pct.median()\n",
    "med_med = gdp_and_internet_use_2014.loc[gdp_and_internet_use_2014.GDP_group == \"Medium\"].Internet_Users_Pct.median()\n",
    "med_high = gdp_and_internet_use_2014.loc[gdp_and_internet_use_2014.GDP_group == \"High\"].Internet_Users_Pct.median()\n",
    "\n",
    "print(\"Low: \", med_low, \" Medium: \", med_med, \" High: \", med_high)"
   ]
  },
  {
   "cell_type": "markdown",
   "id": "d2b12ea9",
   "metadata": {},
   "source": [
    "### Bonus exercise:\n",
    "1.    Download another data set from the UN data (http://data.un.org/Explorer.aspx) to merge with your data and explore."
   ]
  }
 ],
 "metadata": {
  "kernelspec": {
   "display_name": "Python 3 (ipykernel)",
   "language": "python",
   "name": "python3"
  },
  "language_info": {
   "codemirror_mode": {
    "name": "ipython",
    "version": 3
   },
   "file_extension": ".py",
   "mimetype": "text/x-python",
   "name": "python",
   "nbconvert_exporter": "python",
   "pygments_lexer": "ipython3",
   "version": "3.9.12"
  }
 },
 "nbformat": 4,
 "nbformat_minor": 5
}
